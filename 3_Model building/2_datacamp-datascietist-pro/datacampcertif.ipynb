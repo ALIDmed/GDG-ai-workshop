{
 "cells": [
  {
   "cell_type": "code",
   "execution_count": 48,
   "id": "ec69c7b6",
   "metadata": {},
   "outputs": [],
   "source": [
    "import pandas as pd\n",
    "import numpy as np\n",
    "import seaborn as sns\n",
    "import matplotlib.pyplot as plt"
   ]
  },
  {
   "cell_type": "code",
   "execution_count": 49,
   "id": "598106db",
   "metadata": {},
   "outputs": [
    {
     "data": {
      "text/html": [
       "<div>\n",
       "<style scoped>\n",
       "    .dataframe tbody tr th:only-of-type {\n",
       "        vertical-align: middle;\n",
       "    }\n",
       "\n",
       "    .dataframe tbody tr th {\n",
       "        vertical-align: top;\n",
       "    }\n",
       "\n",
       "    .dataframe thead th {\n",
       "        text-align: right;\n",
       "    }\n",
       "</style>\n",
       "<table border=\"1\" class=\"dataframe\">\n",
       "  <thead>\n",
       "    <tr style=\"text-align: right;\">\n",
       "      <th></th>\n",
       "      <th>recipe</th>\n",
       "      <th>calories</th>\n",
       "      <th>carbohydrate</th>\n",
       "      <th>sugar</th>\n",
       "      <th>protein</th>\n",
       "      <th>category</th>\n",
       "      <th>servings</th>\n",
       "      <th>high_traffic</th>\n",
       "    </tr>\n",
       "  </thead>\n",
       "  <tbody>\n",
       "    <tr>\n",
       "      <th>0</th>\n",
       "      <td>1</td>\n",
       "      <td>NaN</td>\n",
       "      <td>NaN</td>\n",
       "      <td>NaN</td>\n",
       "      <td>NaN</td>\n",
       "      <td>Pork</td>\n",
       "      <td>6</td>\n",
       "      <td>High</td>\n",
       "    </tr>\n",
       "    <tr>\n",
       "      <th>1</th>\n",
       "      <td>2</td>\n",
       "      <td>35.48</td>\n",
       "      <td>38.56</td>\n",
       "      <td>0.66</td>\n",
       "      <td>0.92</td>\n",
       "      <td>Potato</td>\n",
       "      <td>4</td>\n",
       "      <td>High</td>\n",
       "    </tr>\n",
       "    <tr>\n",
       "      <th>2</th>\n",
       "      <td>3</td>\n",
       "      <td>914.28</td>\n",
       "      <td>42.68</td>\n",
       "      <td>3.09</td>\n",
       "      <td>2.88</td>\n",
       "      <td>Breakfast</td>\n",
       "      <td>1</td>\n",
       "      <td>NaN</td>\n",
       "    </tr>\n",
       "    <tr>\n",
       "      <th>3</th>\n",
       "      <td>4</td>\n",
       "      <td>97.03</td>\n",
       "      <td>30.56</td>\n",
       "      <td>38.63</td>\n",
       "      <td>0.02</td>\n",
       "      <td>Beverages</td>\n",
       "      <td>4</td>\n",
       "      <td>High</td>\n",
       "    </tr>\n",
       "    <tr>\n",
       "      <th>4</th>\n",
       "      <td>5</td>\n",
       "      <td>27.05</td>\n",
       "      <td>1.85</td>\n",
       "      <td>0.80</td>\n",
       "      <td>0.53</td>\n",
       "      <td>Beverages</td>\n",
       "      <td>4</td>\n",
       "      <td>NaN</td>\n",
       "    </tr>\n",
       "  </tbody>\n",
       "</table>\n",
       "</div>"
      ],
      "text/plain": [
       "   recipe  calories  carbohydrate  sugar  protein   category servings  \\\n",
       "0       1       NaN           NaN    NaN      NaN       Pork        6   \n",
       "1       2     35.48         38.56   0.66     0.92     Potato        4   \n",
       "2       3    914.28         42.68   3.09     2.88  Breakfast        1   \n",
       "3       4     97.03         30.56  38.63     0.02  Beverages        4   \n",
       "4       5     27.05          1.85   0.80     0.53  Beverages        4   \n",
       "\n",
       "  high_traffic  \n",
       "0         High  \n",
       "1         High  \n",
       "2          NaN  \n",
       "3         High  \n",
       "4          NaN  "
      ]
     },
     "execution_count": 49,
     "metadata": {},
     "output_type": "execute_result"
    }
   ],
   "source": [
    "df = pd.read_csv('./recipe_site_traffic_2212.csv')\n",
    "df.head()"
   ]
  },
  {
   "cell_type": "markdown",
   "id": "d0c270e7",
   "metadata": {},
   "source": [
    "# Data validation"
   ]
  },
  {
   "cell_type": "code",
   "execution_count": 50,
   "id": "1cc4fbdd",
   "metadata": {},
   "outputs": [
    {
     "data": {
      "text/plain": [
       "recipe            int64\n",
       "calories        float64\n",
       "carbohydrate    float64\n",
       "sugar           float64\n",
       "protein         float64\n",
       "category         object\n",
       "servings         object\n",
       "high_traffic     object\n",
       "dtype: object"
      ]
     },
     "execution_count": 50,
     "metadata": {},
     "output_type": "execute_result"
    }
   ],
   "source": [
    "df.dtypes"
   ]
  },
  {
   "cell_type": "markdown",
   "id": "21576312",
   "metadata": {},
   "source": [
    "it seems all of the data types are good except for servings let's change this to a number, but before we need to check if all the content contains only numbers"
   ]
  },
  {
   "cell_type": "code",
   "execution_count": 51,
   "id": "b8620dd6",
   "metadata": {},
   "outputs": [
    {
     "data": {
      "text/plain": [
       "array(['6', '4', '1', '2', '4 as a snack', '6 as a snack'], dtype=object)"
      ]
     },
     "execution_count": 51,
     "metadata": {},
     "output_type": "execute_result"
    }
   ],
   "source": [
    "df['servings'].unique()"
   ]
  },
  {
   "cell_type": "markdown",
   "id": "d638d9f0",
   "metadata": {},
   "source": [
    "we have '4 as a snack' and '6 as a snack' we need to change them to 4 and 6"
   ]
  },
  {
   "cell_type": "markdown",
   "id": "650ebfa6",
   "metadata": {},
   "source": [
    "### servings column validation"
   ]
  },
  {
   "cell_type": "code",
   "execution_count": 52,
   "id": "5f334c86",
   "metadata": {},
   "outputs": [
    {
     "data": {
      "text/plain": [
       "array(['6', '4', '1', '2'], dtype=object)"
      ]
     },
     "execution_count": 52,
     "metadata": {},
     "output_type": "execute_result"
    }
   ],
   "source": [
    "df['servings'] = df['servings'].str.replace(' as a snack', '')\n",
    "df['servings'].unique()"
   ]
  },
  {
   "cell_type": "markdown",
   "id": "ac372cc0",
   "metadata": {},
   "source": [
    "great all now let's change the data type"
   ]
  },
  {
   "cell_type": "code",
   "execution_count": 53,
   "id": "654d38b4",
   "metadata": {},
   "outputs": [
    {
     "data": {
      "text/plain": [
       "recipe            int64\n",
       "calories        float64\n",
       "carbohydrate    float64\n",
       "sugar           float64\n",
       "protein         float64\n",
       "category         object\n",
       "servings          int32\n",
       "high_traffic     object\n",
       "dtype: object"
      ]
     },
     "execution_count": 53,
     "metadata": {},
     "output_type": "execute_result"
    }
   ],
   "source": [
    "df['servings'] = df['servings'].astype(int)\n",
    "df.dtypes"
   ]
  },
  {
   "cell_type": "markdown",
   "id": "45a74939",
   "metadata": {},
   "source": [
    "### category column validation"
   ]
  },
  {
   "cell_type": "code",
   "execution_count": 54,
   "id": "3401345c",
   "metadata": {},
   "outputs": [
    {
     "data": {
      "text/plain": [
       "array(['Pork', 'Potato', 'Breakfast', 'Beverages', 'One Dish Meal',\n",
       "       'Chicken Breast', 'Lunch/Snacks', 'Chicken', 'Vegetable', 'Meat',\n",
       "       'Dessert'], dtype=object)"
      ]
     },
     "execution_count": 54,
     "metadata": {},
     "output_type": "execute_result"
    }
   ],
   "source": [
    "df['category'].unique()"
   ]
  },
  {
   "cell_type": "markdown",
   "id": "0b730d13",
   "metadata": {},
   "source": [
    "the Chicken Breast category is the same as 'Chicken'"
   ]
  },
  {
   "cell_type": "code",
   "execution_count": 55,
   "id": "5cbb9b93",
   "metadata": {},
   "outputs": [
    {
     "data": {
      "text/plain": [
       "array(['Pork', 'Potato', 'Breakfast', 'Beverages', 'One Dish Meal',\n",
       "       'Chicken', 'Lunch/Snacks', 'Vegetable', 'Meat', 'Dessert'],\n",
       "      dtype=object)"
      ]
     },
     "execution_count": 55,
     "metadata": {},
     "output_type": "execute_result"
    }
   ],
   "source": [
    "df['category'] = df['category'].str.replace('Chicken Breast', 'Chicken')\n",
    "df['category'].unique()"
   ]
  },
  {
   "cell_type": "markdown",
   "id": "cb65525d",
   "metadata": {},
   "source": [
    "### high_traffic column validation"
   ]
  },
  {
   "cell_type": "code",
   "execution_count": 56,
   "id": "f1efac37",
   "metadata": {},
   "outputs": [
    {
     "data": {
      "text/plain": [
       "array(['High', nan], dtype=object)"
      ]
     },
     "execution_count": 56,
     "metadata": {},
     "output_type": "execute_result"
    }
   ],
   "source": [
    "df['high_traffic'].unique()"
   ]
  },
  {
   "cell_type": "markdown",
   "id": "15f82142",
   "metadata": {},
   "source": [
    "nan values in high_traffic means not high"
   ]
  },
  {
   "cell_type": "code",
   "execution_count": 57,
   "id": "f0d3f9a2",
   "metadata": {},
   "outputs": [
    {
     "name": "stderr",
     "output_type": "stream",
     "text": [
      "C:\\Users\\ali\\AppData\\Local\\Temp\\ipykernel_12992\\1267075681.py:1: FutureWarning: A value is trying to be set on a copy of a DataFrame or Series through chained assignment using an inplace method.\n",
      "The behavior will change in pandas 3.0. This inplace method will never work because the intermediate object on which we are setting values always behaves as a copy.\n",
      "\n",
      "For example, when doing 'df[col].method(value, inplace=True)', try using 'df.method({col: value}, inplace=True)' or df[col] = df[col].method(value) instead, to perform the operation inplace on the original object.\n",
      "\n",
      "\n",
      "  df['high_traffic'].fillna('Not-High', inplace=True)\n"
     ]
    }
   ],
   "source": [
    "df['high_traffic'].fillna('Not-High', inplace=True)"
   ]
  },
  {
   "cell_type": "code",
   "execution_count": 58,
   "id": "fbd0d36c",
   "metadata": {},
   "outputs": [
    {
     "data": {
      "text/plain": [
       "array(['High', 'Not-High'], dtype=object)"
      ]
     },
     "execution_count": 58,
     "metadata": {},
     "output_type": "execute_result"
    }
   ],
   "source": [
    "df['high_traffic'].unique()"
   ]
  },
  {
   "cell_type": "markdown",
   "id": "bdf1b79f",
   "metadata": {},
   "source": [
    "## Missing Values"
   ]
  },
  {
   "cell_type": "code",
   "execution_count": 59,
   "id": "4a665793",
   "metadata": {},
   "outputs": [
    {
     "data": {
      "text/plain": [
       "recipe           0\n",
       "calories        52\n",
       "carbohydrate    52\n",
       "sugar           52\n",
       "protein         52\n",
       "category         0\n",
       "servings         0\n",
       "high_traffic     0\n",
       "dtype: int64"
      ]
     },
     "execution_count": 59,
     "metadata": {},
     "output_type": "execute_result"
    }
   ],
   "source": [
    "df.isna().sum()"
   ]
  },
  {
   "cell_type": "code",
   "execution_count": 60,
   "id": "1f5c5416",
   "metadata": {},
   "outputs": [
    {
     "data": {
      "text/html": [
       "<div>\n",
       "<style scoped>\n",
       "    .dataframe tbody tr th:only-of-type {\n",
       "        vertical-align: middle;\n",
       "    }\n",
       "\n",
       "    .dataframe tbody tr th {\n",
       "        vertical-align: top;\n",
       "    }\n",
       "\n",
       "    .dataframe thead th {\n",
       "        text-align: right;\n",
       "    }\n",
       "</style>\n",
       "<table border=\"1\" class=\"dataframe\">\n",
       "  <thead>\n",
       "    <tr style=\"text-align: right;\">\n",
       "      <th></th>\n",
       "      <th>Number_missing</th>\n",
       "      <th>Percentage_missing</th>\n",
       "    </tr>\n",
       "  </thead>\n",
       "  <tbody>\n",
       "    <tr>\n",
       "      <th>calories</th>\n",
       "      <td>52</td>\n",
       "      <td>5.49</td>\n",
       "    </tr>\n",
       "    <tr>\n",
       "      <th>carbohydrate</th>\n",
       "      <td>52</td>\n",
       "      <td>5.49</td>\n",
       "    </tr>\n",
       "    <tr>\n",
       "      <th>sugar</th>\n",
       "      <td>52</td>\n",
       "      <td>5.49</td>\n",
       "    </tr>\n",
       "    <tr>\n",
       "      <th>protein</th>\n",
       "      <td>52</td>\n",
       "      <td>5.49</td>\n",
       "    </tr>\n",
       "  </tbody>\n",
       "</table>\n",
       "</div>"
      ],
      "text/plain": [
       "              Number_missing  Percentage_missing\n",
       "calories                  52                5.49\n",
       "carbohydrate              52                5.49\n",
       "sugar                     52                5.49\n",
       "protein                   52                5.49"
      ]
     },
     "execution_count": 60,
     "metadata": {},
     "output_type": "execute_result"
    }
   ],
   "source": [
    "na_cols=df.columns[df.isna().any()].tolist()\n",
    "\n",
    "# Missing values summary\n",
    "mv=pd.DataFrame(df[na_cols].isna().sum(), columns=['Number_missing'])\n",
    "mv['Percentage_missing']=np.round(100*mv['Number_missing']/len(df),2)\n",
    "mv"
   ]
  },
  {
   "cell_type": "markdown",
   "id": "688b7984",
   "metadata": {},
   "source": [
    "missing values occupy almost 5.5% of the data"
   ]
  },
  {
   "cell_type": "code",
   "execution_count": 61,
   "id": "bfa98eff",
   "metadata": {},
   "outputs": [
    {
     "data": {
      "text/plain": [
       "Text(0.5, 1.0, 'Heatmap of missing values')"
      ]
     },
     "execution_count": 61,
     "metadata": {},
     "output_type": "execute_result"
    },
    {
     "data": {
      "image/png": "[encoded data removed]",
      "text/plain": [
       "<Figure size 1200x600 with 2 Axes>"
      ]
     },
     "metadata": {},
     "output_type": "display_data"
    }
   ],
   "source": [
    "plt.figure(figsize=(12,6))\n",
    "sns.heatmap(df[na_cols].isna().T, cmap='summer')\n",
    "plt.title('Heatmap of missing values')"
   ]
  },
  {
   "cell_type": "markdown",
   "id": "f814caab",
   "metadata": {},
   "source": [
    "the missing seems to be happening at the same time, let's find a way to impute this values mean or median, firstly we have to check if there is outliers"
   ]
  },
  {
   "cell_type": "code",
   "execution_count": 62,
   "id": "23831a6d",
   "metadata": {},
   "outputs": [],
   "source": [
    "def outliers_iqr_count(column):\n",
    "    q1 = column.quantile(0.25)\n",
    "    q3 = column.quantile(0.75)\n",
    "    iqr = q3 - q1\n",
    "    lower_bound = q1 - 1.5 * iqr\n",
    "    upper_bound = q3 + 1.5 * iqr\n",
    "    return column[(column < lower_bound) | (column > upper_bound)].count()"
   ]
  },
  {
   "cell_type": "code",
   "execution_count": 63,
   "id": "da63adcc",
   "metadata": {},
   "outputs": [
    {
     "name": "stdout",
     "output_type": "stream",
     "text": [
      "calories outliers: 47\n",
      "carbohydrate outliers: 58\n",
      "sugar outliers: 79\n",
      "protein outliers: 77\n"
     ]
    }
   ],
   "source": [
    "for na_col in na_cols:\n",
    "    print(f\"{na_col} outliers: {outliers_iqr_count(df[na_col])}\")"
   ]
  },
  {
   "cell_type": "code",
   "execution_count": 64,
   "id": "6906a3ce",
   "metadata": {},
   "outputs": [],
   "source": [
    "# for na_col in na_cols:\n",
    "#     df[na_col].fillna(df['category'].map(imputation_dict[na_col]), inplace=True)\n",
    "columns = [\"calories\", \"carbohydrate\", \"sugar\", \"protein\"]\n",
    "df[columns] = df[columns].fillna(df[columns].median())"
   ]
  },
  {
   "cell_type": "code",
   "execution_count": 65,
   "id": "6bc1f357",
   "metadata": {},
   "outputs": [
    {
     "data": {
      "text/plain": [
       "recipe          0\n",
       "calories        0\n",
       "carbohydrate    0\n",
       "sugar           0\n",
       "protein         0\n",
       "category        0\n",
       "servings        0\n",
       "high_traffic    0\n",
       "dtype: int64"
      ]
     },
     "execution_count": 65,
     "metadata": {},
     "output_type": "execute_result"
    }
   ],
   "source": [
    "df.isna().sum()"
   ]
  },
  {
   "cell_type": "code",
   "execution_count": 66,
   "id": "02c50fec",
   "metadata": {},
   "outputs": [],
   "source": [
    "df.drop(columns=['recipe'], axis=1, inplace=True)"
   ]
  },
  {
   "cell_type": "code",
   "execution_count": 67,
   "id": "12dfb493",
   "metadata": {},
   "outputs": [
    {
     "data": {
      "text/html": [
       "<div>\n",
       "<style scoped>\n",
       "    .dataframe tbody tr th:only-of-type {\n",
       "        vertical-align: middle;\n",
       "    }\n",
       "\n",
       "    .dataframe tbody tr th {\n",
       "        vertical-align: top;\n",
       "    }\n",
       "\n",
       "    .dataframe thead th {\n",
       "        text-align: right;\n",
       "    }\n",
       "</style>\n",
       "<table border=\"1\" class=\"dataframe\">\n",
       "  <thead>\n",
       "    <tr style=\"text-align: right;\">\n",
       "      <th></th>\n",
       "      <th>calories</th>\n",
       "      <th>carbohydrate</th>\n",
       "      <th>sugar</th>\n",
       "      <th>protein</th>\n",
       "      <th>category</th>\n",
       "      <th>servings</th>\n",
       "      <th>high_traffic</th>\n",
       "    </tr>\n",
       "  </thead>\n",
       "  <tbody>\n",
       "    <tr>\n",
       "      <th>0</th>\n",
       "      <td>288.55</td>\n",
       "      <td>21.48</td>\n",
       "      <td>4.55</td>\n",
       "      <td>10.80</td>\n",
       "      <td>Pork</td>\n",
       "      <td>6</td>\n",
       "      <td>High</td>\n",
       "    </tr>\n",
       "    <tr>\n",
       "      <th>1</th>\n",
       "      <td>35.48</td>\n",
       "      <td>38.56</td>\n",
       "      <td>0.66</td>\n",
       "      <td>0.92</td>\n",
       "      <td>Potato</td>\n",
       "      <td>4</td>\n",
       "      <td>High</td>\n",
       "    </tr>\n",
       "    <tr>\n",
       "      <th>2</th>\n",
       "      <td>914.28</td>\n",
       "      <td>42.68</td>\n",
       "      <td>3.09</td>\n",
       "      <td>2.88</td>\n",
       "      <td>Breakfast</td>\n",
       "      <td>1</td>\n",
       "      <td>Not-High</td>\n",
       "    </tr>\n",
       "    <tr>\n",
       "      <th>3</th>\n",
       "      <td>97.03</td>\n",
       "      <td>30.56</td>\n",
       "      <td>38.63</td>\n",
       "      <td>0.02</td>\n",
       "      <td>Beverages</td>\n",
       "      <td>4</td>\n",
       "      <td>High</td>\n",
       "    </tr>\n",
       "    <tr>\n",
       "      <th>4</th>\n",
       "      <td>27.05</td>\n",
       "      <td>1.85</td>\n",
       "      <td>0.80</td>\n",
       "      <td>0.53</td>\n",
       "      <td>Beverages</td>\n",
       "      <td>4</td>\n",
       "      <td>Not-High</td>\n",
       "    </tr>\n",
       "  </tbody>\n",
       "</table>\n",
       "</div>"
      ],
      "text/plain": [
       "   calories  carbohydrate  sugar  protein   category  servings high_traffic\n",
       "0    288.55         21.48   4.55    10.80       Pork         6         High\n",
       "1     35.48         38.56   0.66     0.92     Potato         4         High\n",
       "2    914.28         42.68   3.09     2.88  Breakfast         1     Not-High\n",
       "3     97.03         30.56  38.63     0.02  Beverages         4         High\n",
       "4     27.05          1.85   0.80     0.53  Beverages         4     Not-High"
      ]
     },
     "execution_count": 67,
     "metadata": {},
     "output_type": "execute_result"
    }
   ],
   "source": [
    "df.head()"
   ]
  },
  {
   "cell_type": "markdown",
   "id": "f9959b93",
   "metadata": {},
   "source": [
    "# Exploratory Analysis"
   ]
  },
  {
   "cell_type": "markdown",
   "id": "30c84a89",
   "metadata": {},
   "source": [
    "## Study the high_traffic target variable"
   ]
  },
  {
   "cell_type": "code",
   "execution_count": 68,
   "id": "9c374a89",
   "metadata": {},
   "outputs": [
    {
     "data": {
      "text/plain": [
       "<Axes: xlabel='high_traffic', ylabel='count'>"
      ]
     },
     "execution_count": 68,
     "metadata": {},
     "output_type": "execute_result"
    },
    {
     "data": {
      "image/png": "[encoded data removed]",
      "text/plain": [
       "<Figure size 640x480 with 1 Axes>"
      ]
     },
     "metadata": {},
     "output_type": "display_data"
    }
   ],
   "source": [
    "sns.countplot(df, x='high_traffic')"
   ]
  },
  {
   "cell_type": "markdown",
   "id": "78ac658f",
   "metadata": {},
   "source": [
    "the high-traffic recipes occupies over **60%** of the data in contrast the not-high with almost **40%**.\n",
    "the dataset is not that balanced in this case we need to take that into consideration when splitting the data for modeling, the website has higher high-traffic recipes than the others"
   ]
  },
  {
   "cell_type": "markdown",
   "id": "127283d4",
   "metadata": {},
   "source": [
    "## the relation with the target variable"
   ]
  },
  {
   "cell_type": "code",
   "execution_count": 69,
   "id": "fc857357",
   "metadata": {},
   "outputs": [
    {
     "data": {
      "text/plain": [
       "<Axes: xlabel='category', ylabel='count'>"
      ]
     },
     "execution_count": 69,
     "metadata": {},
     "output_type": "execute_result"
    },
    {
     "data": {
      "image/png": "[encoded data removed]",
      "text/plain": [
       "<Figure size 1500x800 with 1 Axes>"
      ]
     },
     "metadata": {},
     "output_type": "display_data"
    }
   ],
   "source": [
    "plt.figure(figsize=(15, 8))\n",
    "sns.countplot(df, x='category')"
   ]
  },
  {
   "cell_type": "markdown",
   "id": "e9023196",
   "metadata": {},
   "source": [
    "Interesting, we can see that the categories are quite even except (almost between 75 and 100) for the Chicken category, this gives a clear idea about the distribution of the categories"
   ]
  },
  {
   "cell_type": "code",
   "execution_count": 70,
   "id": "a7f63645",
   "metadata": {},
   "outputs": [
    {
     "data": {
      "text/plain": [
       "<Axes: xlabel='category', ylabel='count'>"
      ]
     },
     "execution_count": 70,
     "metadata": {},
     "output_type": "execute_result"
    },
    {
     "data": {
      "image/png": "[encoded data removed]",
      "text/plain": [
       "<Figure size 1500x800 with 1 Axes>"
      ]
     },
     "metadata": {},
     "output_type": "display_data"
    }
   ],
   "source": [
    "plt.figure(figsize=(15, 8))\n",
    "sns.countplot(df, x='category', hue='high_traffic')"
   ]
  },
  {
   "cell_type": "markdown",
   "id": "9b87600c",
   "metadata": {},
   "source": [
    "this gives an idea about the ranking, we can observe that Pork, Potato and Vegetables are popular, whereas Beverages and Breakfast aren't that popular"
   ]
  },
  {
   "cell_type": "code",
   "execution_count": 71,
   "id": "ce2ce657",
   "metadata": {},
   "outputs": [
    {
     "data": {
      "text/plain": [
       "<Axes: xlabel='servings', ylabel='count'>"
      ]
     },
     "execution_count": 71,
     "metadata": {},
     "output_type": "execute_result"
    },
    {
     "data": {
      "image/png": "[encoded data removed]",
      "text/plain": [
       "<Figure size 640x480 with 1 Axes>"
      ]
     },
     "metadata": {},
     "output_type": "display_data"
    }
   ],
   "source": [
    "\n",
    "sns.countplot(df, x='servings')"
   ]
  },
  {
   "cell_type": "markdown",
   "id": "cb685968",
   "metadata": {},
   "source": [
    "we can see that recipes with 4 servings are more in this dataset and for 1,2 and 6 are the same"
   ]
  },
  {
   "cell_type": "code",
   "execution_count": 72,
   "id": "4ac7f451",
   "metadata": {},
   "outputs": [
    {
     "data": {
      "image/png": "[encoded data removed]",
      "text/plain": [
       "<Figure size 1500x800 with 1 Axes>"
      ]
     },
     "metadata": {},
     "output_type": "display_data"
    }
   ],
   "source": [
    "plt.figure(figsize=(15, 8))\n",
    "ax = sns.countplot(df, x='servings', hue='high_traffic')"
   ]
  },
  {
   "cell_type": "markdown",
   "id": "0b606e5a",
   "metadata": {},
   "source": [
    "it's always for every serving having higher propotion of high-traffic compared to not-high traffic"
   ]
  },
  {
   "cell_type": "code",
   "execution_count": 73,
   "id": "b4679da7",
   "metadata": {},
   "outputs": [
    {
     "data": {
      "text/plain": [
       "<Axes: xlabel='servings', ylabel='high_traffic'>"
      ]
     },
     "execution_count": 73,
     "metadata": {},
     "output_type": "execute_result"
    },
    {
     "data": {
      "image/png": "[encoded data removed]",
      "text/plain": [
       "<Figure size 640x480 with 1 Axes>"
      ]
     },
     "metadata": {},
     "output_type": "display_data"
    }
   ],
   "source": [
    "sns.boxplot(df, x='servings', y='high_traffic')"
   ]
  },
  {
   "cell_type": "markdown",
   "id": "ec4eda19",
   "metadata": {},
   "source": [
    "the distribution of the servings doesn't change when we compare the popularity"
   ]
  },
  {
   "cell_type": "code",
   "execution_count": 74,
   "id": "e3485bfb",
   "metadata": {},
   "outputs": [
    {
     "data": {
      "text/html": [
       "<div>\n",
       "<style scoped>\n",
       "    .dataframe tbody tr th:only-of-type {\n",
       "        vertical-align: middle;\n",
       "    }\n",
       "\n",
       "    .dataframe tbody tr th {\n",
       "        vertical-align: top;\n",
       "    }\n",
       "\n",
       "    .dataframe thead th {\n",
       "        text-align: right;\n",
       "    }\n",
       "</style>\n",
       "<table border=\"1\" class=\"dataframe\">\n",
       "  <thead>\n",
       "    <tr style=\"text-align: right;\">\n",
       "      <th></th>\n",
       "      <th>calories</th>\n",
       "      <th>carbohydrate</th>\n",
       "      <th>sugar</th>\n",
       "      <th>protein</th>\n",
       "      <th>servings</th>\n",
       "    </tr>\n",
       "  </thead>\n",
       "  <tbody>\n",
       "    <tr>\n",
       "      <th>count</th>\n",
       "      <td>947.000000</td>\n",
       "      <td>947.000000</td>\n",
       "      <td>947.000000</td>\n",
       "      <td>947.000000</td>\n",
       "      <td>947.000000</td>\n",
       "    </tr>\n",
       "    <tr>\n",
       "      <th>mean</th>\n",
       "      <td>427.846019</td>\n",
       "      <td>34.323464</td>\n",
       "      <td>8.799641</td>\n",
       "      <td>23.416283</td>\n",
       "      <td>3.477297</td>\n",
       "    </tr>\n",
       "    <tr>\n",
       "      <th>std</th>\n",
       "      <td>441.673556</td>\n",
       "      <td>42.836191</td>\n",
       "      <td>14.306785</td>\n",
       "      <td>35.486699</td>\n",
       "      <td>1.732741</td>\n",
       "    </tr>\n",
       "    <tr>\n",
       "      <th>min</th>\n",
       "      <td>0.140000</td>\n",
       "      <td>0.030000</td>\n",
       "      <td>0.010000</td>\n",
       "      <td>0.000000</td>\n",
       "      <td>1.000000</td>\n",
       "    </tr>\n",
       "    <tr>\n",
       "      <th>25%</th>\n",
       "      <td>114.410000</td>\n",
       "      <td>9.135000</td>\n",
       "      <td>1.795000</td>\n",
       "      <td>3.465000</td>\n",
       "      <td>2.000000</td>\n",
       "    </tr>\n",
       "    <tr>\n",
       "      <th>50%</th>\n",
       "      <td>288.550000</td>\n",
       "      <td>21.480000</td>\n",
       "      <td>4.550000</td>\n",
       "      <td>10.800000</td>\n",
       "      <td>4.000000</td>\n",
       "    </tr>\n",
       "    <tr>\n",
       "      <th>75%</th>\n",
       "      <td>576.225000</td>\n",
       "      <td>42.590000</td>\n",
       "      <td>9.285000</td>\n",
       "      <td>28.530000</td>\n",
       "      <td>4.000000</td>\n",
       "    </tr>\n",
       "    <tr>\n",
       "      <th>max</th>\n",
       "      <td>3633.160000</td>\n",
       "      <td>530.420000</td>\n",
       "      <td>148.750000</td>\n",
       "      <td>363.360000</td>\n",
       "      <td>6.000000</td>\n",
       "    </tr>\n",
       "  </tbody>\n",
       "</table>\n",
       "</div>"
      ],
      "text/plain": [
       "          calories  carbohydrate       sugar     protein    servings\n",
       "count   947.000000    947.000000  947.000000  947.000000  947.000000\n",
       "mean    427.846019     34.323464    8.799641   23.416283    3.477297\n",
       "std     441.673556     42.836191   14.306785   35.486699    1.732741\n",
       "min       0.140000      0.030000    0.010000    0.000000    1.000000\n",
       "25%     114.410000      9.135000    1.795000    3.465000    2.000000\n",
       "50%     288.550000     21.480000    4.550000   10.800000    4.000000\n",
       "75%     576.225000     42.590000    9.285000   28.530000    4.000000\n",
       "max    3633.160000    530.420000  148.750000  363.360000    6.000000"
      ]
     },
     "execution_count": 74,
     "metadata": {},
     "output_type": "execute_result"
    }
   ],
   "source": [
    "df.describe()"
   ]
  },
  {
   "cell_type": "code",
   "execution_count": 75,
   "id": "a4a35110",
   "metadata": {},
   "outputs": [
    {
     "name": "stderr",
     "output_type": "stream",
     "text": [
      "c:\\Users\\ali\\AppData\\Local\\Programs\\Python\\Python310\\lib\\site-packages\\seaborn\\_oldcore.py:1119: FutureWarning: use_inf_as_na option is deprecated and will be removed in a future version. Convert inf values to NaN before operating instead.\n",
      "  with pd.option_context('mode.use_inf_as_na', True):\n",
      "c:\\Users\\ali\\AppData\\Local\\Programs\\Python\\Python310\\lib\\site-packages\\seaborn\\_oldcore.py:1119: FutureWarning: use_inf_as_na option is deprecated and will be removed in a future version. Convert inf values to NaN before operating instead.\n",
      "  with pd.option_context('mode.use_inf_as_na', True):\n",
      "c:\\Users\\ali\\AppData\\Local\\Programs\\Python\\Python310\\lib\\site-packages\\seaborn\\_oldcore.py:1119: FutureWarning: use_inf_as_na option is deprecated and will be removed in a future version. Convert inf values to NaN before operating instead.\n",
      "  with pd.option_context('mode.use_inf_as_na', True):\n",
      "c:\\Users\\ali\\AppData\\Local\\Programs\\Python\\Python310\\lib\\site-packages\\seaborn\\_oldcore.py:1119: FutureWarning: use_inf_as_na option is deprecated and will be removed in a future version. Convert inf values to NaN before operating instead.\n",
      "  with pd.option_context('mode.use_inf_as_na', True):\n"
     ]
    },
    {
     "data": {
      "text/plain": [
       "<Axes: xlabel='protein', ylabel='Count'>"
      ]
     },
     "execution_count": 75,
     "metadata": {},
     "output_type": "execute_result"
    },
    {
     "data": {
      "image/png": "[encoded data removed]",
      "text/plain": [
       "<Figure size 1500x1000 with 4 Axes>"
      ]
     },
     "metadata": {},
     "output_type": "display_data"
    }
   ],
   "source": [
    "_, ax = plt.subplots(2,2, figsize=(15,10))\n",
    "sns.histplot(df, x='calories',kde=True, ax=ax[0][0], binwidth=100)\n",
    "sns.histplot(df, x='carbohydrate',kde=True, ax=ax[0][1], binwidth=10)\n",
    "sns.histplot(df, x='sugar',kde=True, ax=ax[1][0], binwidth=2)\n",
    "sns.histplot(df, x='protein',kde=True, ax=ax[1][1], binwidth=5)"
   ]
  },
  {
   "cell_type": "markdown",
   "id": "a345f7e0",
   "metadata": {},
   "source": [
    "most of our Nutritional Informations is right skewed with a lot of outliers and diffrent scaling, for modeling we need to do some preprocessing on it.\n",
    "\n",
    "**Insights**:\n",
    "* **calories**: between 0-500 for most of the recipes with a median of 296 and a maximum of 3633 calories\n",
    "* **carbohydrate**: between 0-40 for most of the recipes with a median of 21 and a maximum of 530 carbohydrates\n",
    "* **sugar**: between 0-6 for most of the recipes with a median of 4.4 and a maximum of 148 of sugar\n",
    "* **protein**: between 0-20 for most of the recipes with a median of 11 and a maximum of 363 protein"
   ]
  },
  {
   "cell_type": "markdown",
   "id": "068eef69",
   "metadata": {},
   "source": [
    "# Model Development"
   ]
  },
  {
   "cell_type": "code",
   "execution_count": 76,
   "id": "f059872f",
   "metadata": {},
   "outputs": [],
   "source": [
    "from sklearn.model_selection import train_test_split, GridSearchCV\n",
    "from sklearn.linear_model import LogisticRegression\n",
    "from sklearn.preprocessing import LabelEncoder, MinMaxScaler, RobustScaler\n",
    "from sklearn.metrics import confusion_matrix, classification_report, accuracy_score, f1_score\n",
    "import time"
   ]
  },
  {
   "cell_type": "code",
   "execution_count": 77,
   "id": "29cfb0fe",
   "metadata": {},
   "outputs": [],
   "source": [
    "df['high_traffic_binary'] = df['high_traffic'].map({'High': 1, 'Not-High': 0})\n",
    "df = pd.get_dummies(df, columns=['category'])"
   ]
  },
  {
   "cell_type": "code",
   "execution_count": 78,
   "id": "86c9a620",
   "metadata": {},
   "outputs": [],
   "source": [
    "X = df.drop(['high_traffic', 'high_traffic_binary'], axis=1)\n",
    "y = df['high_traffic_binary']"
   ]
  },
  {
   "cell_type": "markdown",
   "id": "26b55536",
   "metadata": {},
   "source": [
    "### Dealing with extreme outliers"
   ]
  },
  {
   "cell_type": "code",
   "execution_count": 79,
   "id": "da5c4b8b",
   "metadata": {},
   "outputs": [],
   "source": [
    "numerical_columns = [\"calories\", \"carbohydrate\", \"sugar\", \"protein\"]\n",
    "Q1 = X[numerical_columns].quantile(0.25)\n",
    "Q3 = X[numerical_columns].quantile(0.75)\n",
    "IQR = Q3 - Q1\n",
    "lower_bound = Q1 - (3 * IQR)\n",
    "upper_bound = Q3 + (3 * IQR)\n",
    "\n",
    "def max_value(df, top):\n",
    "    return np.where(df>top, top, df)\n",
    "\n",
    "X[numerical_columns] = max_value(X[numerical_columns], upper_bound)"
   ]
  },
  {
   "cell_type": "markdown",
   "id": "b6f491ba",
   "metadata": {},
   "source": [
    "### Splitting & Preprocessing"
   ]
  },
  {
   "cell_type": "code",
   "execution_count": 80,
   "id": "bc7d408c",
   "metadata": {},
   "outputs": [],
   "source": [
    "scaler = MinMaxScaler()\n",
    "\n",
    "X[numerical_columns] = scaler.fit_transform(X[numerical_columns])"
   ]
  },
  {
   "cell_type": "code",
   "execution_count": 81,
   "id": "c641353a",
   "metadata": {},
   "outputs": [],
   "source": [
    "X_train, X_test, y_train, y_test = train_test_split(X, y, stratify=y, test_size=0.3, random_state=42)"
   ]
  },
  {
   "cell_type": "markdown",
   "id": "af6cb67f",
   "metadata": {},
   "source": [
    "### Modeling"
   ]
  },
  {
   "cell_type": "code",
   "execution_count": 82,
   "id": "f594b534",
   "metadata": {},
   "outputs": [],
   "source": [
    "from sklearn.linear_model import LogisticRegression\n",
    "from sklearn.ensemble import RandomForestClassifier\n",
    "from sklearn.svm import SVC\n",
    "from sklearn.neighbors import KNeighborsClassifier\n",
    "from sklearn.naive_bayes import GaussianNB\n",
    "from xgboost import XGBClassifier\n",
    "from sklearn.linear_model import SGDClassifier"
   ]
  },
  {
   "cell_type": "code",
   "execution_count": 83,
   "id": "928bedd3",
   "metadata": {},
   "outputs": [],
   "source": [
    "models = {\n",
    "    \"Logistic Regression\": LogisticRegression(),\n",
    "    \"SCV\": SVC(),\n",
    "    \"Random Forest\": RandomForestClassifier(),\n",
    "    \"KNN\": KNeighborsClassifier(),\n",
    "    \"Naive Bayes\": GaussianNB(),\n",
    "    \"XGBoost\": XGBClassifier(),\n",
    "    \"SGDC\": SGDClassifier(),\n",
    "    \n",
    "}\n",
    "\n",
    "SGDC_grid = {'alpha': [0.0001, 0.001, 0.01, 0.1, 1, 10],\n",
    "              'l1_ratio': [0, 0.15, 0.5, 0.85, 1],\n",
    "              'max_iter': [1000, 5000, 10000],\n",
    "            }\n",
    "\n",
    "lr_grid = {\n",
    "          'C': [0.01, 0.1, 1, 10, 100],\n",
    "          'fit_intercept': [True, False],\n",
    "          'class_weight': [None, 'balanced']\n",
    "}\n",
    "\n",
    "svc_grid = {\n",
    "    'C': [0.25, 0.5, 0.75, 1, 1.25],\n",
    "    'kernel': ['linear', 'rbf'],\n",
    "    'gamma': ['scale', 'auto']\n",
    "}\n",
    "\n",
    "rf_grid = {\n",
    "    'n_estimators': [50, 100, 150, 200],\n",
    "    'max_depth': [4, 8, 12, 16, 20],\n",
    "    'min_samples_split': [2, 5, 10]\n",
    "}\n",
    "knn_grid = {\n",
    "    'n_neighbors': [3, 5, 7],\n",
    "    'weights': ['uniform', 'distance'],\n",
    "    'p': [1, 2]\n",
    "}\n",
    "nb_grid = {\n",
    "    'var_smoothing': [1e-2, 1e-4, 1e-6, 1e-7, 1e-9, 1e-11]\n",
    "}\n",
    "\n",
    "boosting_grid = {\n",
    "    'max_depth': [4, 8, 12],\n",
    "    'n_estimators': [50, 100, 150, 200],\n",
    "    'learning_rate': [0.05, 0.1, 0.15]\n",
    "}\n",
    "\n",
    "grid = {\n",
    "    \"Logistic Regression\": lr_grid,\n",
    "    \"SCV\": svc_grid,\n",
    "    \"Random Forest\": rf_grid,\n",
    "    \"KNN\": knn_grid,\n",
    "    \"Naive Bayes\": nb_grid,\n",
    "    \"XGBoost\": boosting_grid,\n",
    "    \"SGDC\": SGDC_grid,\n",
    "}"
   ]
  },
  {
   "cell_type": "code",
   "execution_count": 84,
   "id": "f1666797",
   "metadata": {},
   "outputs": [
    {
     "name": "stdout",
     "output_type": "stream",
     "text": [
      "Model:  Logistic Regression\n",
      "Model training time(s) :  3.01\n",
      "Model:  SCV\n",
      "Model training time(s) :  0.41\n",
      "Model:  Random Forest\n",
      "Model training time(s) :  17.67\n",
      "Model:  KNN\n",
      "Model training time(s) :  0.23\n",
      "Model:  Naive Bayes\n",
      "Model training time(s) :  0.08\n",
      "Model:  XGBoost\n",
      "Model training time(s) :  4.23\n",
      "Model:  SGDC\n",
      "Model training time(s) :  0.8\n"
     ]
    }
   ],
   "source": [
    "scores = pd.DataFrame({'Model': models.keys(), \n",
    "                       'Accuracy': np.zeros(len(models)),\n",
    "                       'Training Time': np.zeros(len(models))\n",
    "                      })\n",
    "model_best_params = models.copy()\n",
    "i = 0\n",
    "\n",
    "for key, model in models.items():\n",
    "    print('Model: ', key)\n",
    "    start = time.time()\n",
    "    \n",
    "    grid_search = GridSearchCV(estimator=model, param_grid=grid[key], cv=5, n_jobs=-1)\n",
    "    \n",
    "    grid_search.fit(X_train, y_train)\n",
    "    scores.iloc[i, 1] = grid_search.score(X_test, y_test)\n",
    "    \n",
    "    model_best_params[key] = grid_search.best_params_\n",
    "    \n",
    "    stop = time.time()\n",
    "    \n",
    "    scores.iloc[i, 2] = np.round((stop - start), 2)\n",
    "    \n",
    "    print('Model training time(s) : ', scores.iloc[i, 2])\n",
    "    i += 1"
   ]
  },
  {
   "cell_type": "code",
   "execution_count": 85,
   "id": "6125375e",
   "metadata": {},
   "outputs": [
    {
     "data": {
      "text/html": [
       "<div>\n",
       "<style scoped>\n",
       "    .dataframe tbody tr th:only-of-type {\n",
       "        vertical-align: middle;\n",
       "    }\n",
       "\n",
       "    .dataframe tbody tr th {\n",
       "        vertical-align: top;\n",
       "    }\n",
       "\n",
       "    .dataframe thead th {\n",
       "        text-align: right;\n",
       "    }\n",
       "</style>\n",
       "<table border=\"1\" class=\"dataframe\">\n",
       "  <thead>\n",
       "    <tr style=\"text-align: right;\">\n",
       "      <th></th>\n",
       "      <th>Model</th>\n",
       "      <th>Accuracy</th>\n",
       "      <th>Training Time</th>\n",
       "    </tr>\n",
       "  </thead>\n",
       "  <tbody>\n",
       "    <tr>\n",
       "      <th>2</th>\n",
       "      <td>Random Forest</td>\n",
       "      <td>0.768421</td>\n",
       "      <td>17.67</td>\n",
       "    </tr>\n",
       "    <tr>\n",
       "      <th>0</th>\n",
       "      <td>Logistic Regression</td>\n",
       "      <td>0.764912</td>\n",
       "      <td>3.01</td>\n",
       "    </tr>\n",
       "    <tr>\n",
       "      <th>1</th>\n",
       "      <td>SCV</td>\n",
       "      <td>0.764912</td>\n",
       "      <td>0.41</td>\n",
       "    </tr>\n",
       "    <tr>\n",
       "      <th>6</th>\n",
       "      <td>SGDC</td>\n",
       "      <td>0.764912</td>\n",
       "      <td>0.80</td>\n",
       "    </tr>\n",
       "    <tr>\n",
       "      <th>5</th>\n",
       "      <td>XGBoost</td>\n",
       "      <td>0.747368</td>\n",
       "      <td>4.23</td>\n",
       "    </tr>\n",
       "    <tr>\n",
       "      <th>4</th>\n",
       "      <td>Naive Bayes</td>\n",
       "      <td>0.729825</td>\n",
       "      <td>0.08</td>\n",
       "    </tr>\n",
       "    <tr>\n",
       "      <th>3</th>\n",
       "      <td>KNN</td>\n",
       "      <td>0.722807</td>\n",
       "      <td>0.23</td>\n",
       "    </tr>\n",
       "  </tbody>\n",
       "</table>\n",
       "</div>"
      ],
      "text/plain": [
       "                 Model  Accuracy  Training Time\n",
       "2        Random Forest  0.768421          17.67\n",
       "0  Logistic Regression  0.764912           3.01\n",
       "1                  SCV  0.764912           0.41\n",
       "6                 SGDC  0.764912           0.80\n",
       "5              XGBoost  0.747368           4.23\n",
       "4          Naive Bayes  0.729825           0.08\n",
       "3                  KNN  0.722807           0.23"
      ]
     },
     "execution_count": 85,
     "metadata": {},
     "output_type": "execute_result"
    }
   ],
   "source": [
    "scores.sort_values(by='Accuracy', ascending=False)"
   ]
  },
  {
   "cell_type": "markdown",
   "id": "5b61bb86",
   "metadata": {},
   "source": [
    "let's pick the SVC and LR"
   ]
  },
  {
   "cell_type": "code",
   "execution_count": 86,
   "id": "1a6dbfc8",
   "metadata": {},
   "outputs": [],
   "source": [
    "lr = LogisticRegression(**model_best_params['Logistic Regression'])\n",
    "lr.fit(X_train, y_train)\n",
    "y_pred_lr = lr.predict(X_test)\n",
    "\n",
    "svm = SVC(**model_best_params['SCV'])\n",
    "svm.fit(X_train, y_train)\n",
    "y_pred_svm = svm.predict(X_test)"
   ]
  },
  {
   "cell_type": "markdown",
   "id": "c8cc8a67",
   "metadata": {},
   "source": [
    "## Model evaluation"
   ]
  },
  {
   "cell_type": "markdown",
   "id": "a6cd1bfb",
   "metadata": {},
   "source": [
    "Here, we present a comparison between the two fitted models. In this scenario, prioritizing precision over accuracy is more appropriate. While accuracy provides an overall assessment of the model's performance, our focus, as per my manager's request, is specifically on studying the \"high\" label (denoted by 1). Additionally, due to the imperfect balance in my dataset, the utility of accuracy is diminished.\n",
    "\n",
    "Our objective is to minimize the risk of showcasing unpopular recipes, as indicated in my manager's email. Hence, we aim to avoid False Positive predictions, where an unpopular recipe is incorrectly labeled as popular. Therefore, the precision score is valuable in this context as it considers these instances of False Positive predictions, serving as our primary metric of interest.\n",
    "\n",
    "While ensuring a decent recall is always beneficial, accounting for False Negatives (popular recipes labeled as unpopular), our main emphasis remains on precision. To strike a balance between precision and recall, we turn to the F1 score, which provides a harmonic mean of these two metrics, offering a comprehensive evaluation."
   ]
  },
  {
   "cell_type": "code",
   "execution_count": 87,
   "id": "f76f4356",
   "metadata": {},
   "outputs": [
    {
     "name": "stdout",
     "output_type": "stream",
     "text": [
      "*****LOGISTIC REGRESSION MODEL*****\n",
      "              precision    recall  f1-score   support\n",
      "\n",
      "           0       0.68      0.75      0.71       112\n",
      "           1       0.83      0.77      0.80       173\n",
      "\n",
      "    accuracy                           0.76       285\n",
      "   macro avg       0.76      0.76      0.76       285\n",
      "weighted avg       0.77      0.76      0.77       285\n",
      "\n"
     ]
    },
    {
     "data": {
      "image/png": "[encoded data removed]",
      "text/plain": [
       "<Figure size 640x480 with 2 Axes>"
      ]
     },
     "metadata": {},
     "output_type": "display_data"
    }
   ],
   "source": [
    "print(\"*****LOGISTIC REGRESSION MODEL*****\")\n",
    "sns.heatmap(confusion_matrix(y_test, y_pred_lr), annot=True, fmt=\".0f\")\n",
    "print(classification_report(y_test, y_pred_lr))"
   ]
  },
  {
   "cell_type": "code",
   "execution_count": 88,
   "id": "7071d5aa",
   "metadata": {},
   "outputs": [
    {
     "name": "stdout",
     "output_type": "stream",
     "text": [
      "*****SVM*****\n",
      "              precision    recall  f1-score   support\n",
      "\n",
      "           0       0.68      0.75      0.71       112\n",
      "           1       0.83      0.77      0.80       173\n",
      "\n",
      "    accuracy                           0.76       285\n",
      "   macro avg       0.76      0.76      0.76       285\n",
      "weighted avg       0.77      0.76      0.77       285\n",
      "\n"
     ]
    },
    {
     "data": {
      "image/png": "[encoded data removed]",
      "text/plain": [
       "<Figure size 640x480 with 2 Axes>"
      ]
     },
     "metadata": {},
     "output_type": "display_data"
    }
   ],
   "source": [
    "print(\"*****SVM*****\")\n",
    "sns.heatmap(confusion_matrix(y_test, y_pred_svm), annot=True, fmt=\".0f\")\n",
    "print(classification_report(y_test, y_pred_svm))"
   ]
  }
 ],
 "metadata": {
  "kernelspec": {
   "display_name": "Python 3 (ipykernel)",
   "language": "python",
   "name": "python3"
  },
  "language_info": {
   "codemirror_mode": {
    "name": "ipython",
    "version": 3
   },
   "file_extension": ".py",
   "mimetype": "text/x-python",
   "name": "python",
   "nbconvert_exporter": "python",
   "pygments_lexer": "ipython3",
   "version": "3.10.10"
  }
 },
 "nbformat": 4,
 "nbformat_minor": 5
}
