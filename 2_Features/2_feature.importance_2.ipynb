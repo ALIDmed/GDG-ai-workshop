{
 "cells": [
  {
   "cell_type": "code",
   "execution_count": 15,
   "metadata": {
    "ExecuteTime": {
     "end_time": "2023-08-11T11:33:50.960339600Z",
     "start_time": "2023-08-11T11:33:50.936546700Z"
    },
    "collapsed": true
   },
   "outputs": [],
   "source": [
    "import pandas as pd\n",
    "import seaborn as sns\n",
    "import numpy as np"
   ]
  },
  {
   "cell_type": "code",
   "execution_count": 80,
   "metadata": {
    "ExecuteTime": {
     "end_time": "2023-08-11T12:13:32.101214600Z",
     "start_time": "2023-08-11T12:13:32.079224Z"
    },
    "collapsed": false
   },
   "outputs": [],
   "source": [
    "df = sns.load_dataset('titanic')"
   ]
  },
  {
   "cell_type": "code",
   "execution_count": null,
   "metadata": {
    "ExecuteTime": {
     "end_time": "2023-08-11T12:13:32.270023Z",
     "start_time": "2023-08-11T12:13:32.262302Z"
    },
    "collapsed": false
   },
   "outputs": [],
   "source": [
    "df.head()"
   ]
  },
  {
   "cell_type": "markdown",
   "metadata": {
    "collapsed": false
   },
   "source": [
    "let's perform feature selection on categorical features"
   ]
  },
  {
   "cell_type": "code",
   "execution_count": 82,
   "metadata": {
    "ExecuteTime": {
     "end_time": "2023-08-11T12:13:33.258930500Z",
     "start_time": "2023-08-11T12:13:33.237560100Z"
    },
    "collapsed": false
   },
   "outputs": [],
   "source": [
    "df = df[['survived', 'pclass', 'sex', 'embarked', 'alone']]"
   ]
  },
  {
   "cell_type": "markdown",
   "metadata": {
    "collapsed": false
   },
   "source": [
    "### preprocessing"
   ]
  },
  {
   "cell_type": "code",
   "execution_count": 83,
   "metadata": {
    "ExecuteTime": {
     "end_time": "2023-08-11T12:13:33.804315600Z",
     "start_time": "2023-08-11T12:13:33.785907300Z"
    },
    "collapsed": false
   },
   "outputs": [],
   "source": [
    "df['sex'] = np.where(df['sex']=='male', 1, 0)\n",
    "df['alone'] = np.where(df['alone']==True, 1, 0)"
   ]
  },
  {
   "cell_type": "code",
   "execution_count": 84,
   "metadata": {
    "ExecuteTime": {
     "end_time": "2023-08-11T12:13:34.613637800Z",
     "start_time": "2023-08-11T12:13:34.597720700Z"
    },
    "collapsed": false
   },
   "outputs": [],
   "source": [
    "df.dropna(subset=['embarked'], inplace=True)\n",
    "\n",
    "embarked_dict = {k: v for v, k in enumerate(df['embarked'].unique())}\n",
    "df['embarked'] = df['embarked'].map(embarked_dict)"
   ]
  },
  {
   "cell_type": "code",
   "execution_count": null,
   "metadata": {
    "ExecuteTime": {
     "end_time": "2023-08-11T12:13:40.742095700Z",
     "start_time": "2023-08-11T12:13:40.721530800Z"
    },
    "collapsed": false
   },
   "outputs": [],
   "source": [
    "df.head()"
   ]
  },
  {
   "cell_type": "code",
   "execution_count": 86,
   "metadata": {
    "ExecuteTime": {
     "end_time": "2023-08-11T12:13:57.856869Z",
     "start_time": "2023-08-11T12:13:57.843052800Z"
    },
    "collapsed": false
   },
   "outputs": [],
   "source": [
    "X = df.drop(columns=['survived'], axis=1)\n",
    "y = df['survived']"
   ]
  },
  {
   "cell_type": "code",
   "execution_count": 87,
   "metadata": {
    "ExecuteTime": {
     "end_time": "2023-08-11T12:14:01.094306200Z",
     "start_time": "2023-08-11T12:14:01.063601700Z"
    },
    "collapsed": false
   },
   "outputs": [],
   "source": [
    "from sklearn.model_selection import train_test_split\n",
    "X_train, X_test, y_train, y_test = train_test_split(X, y, test_size=0.3, random_state=10, stratify=y)"
   ]
  },
  {
   "cell_type": "markdown",
   "metadata": {
    "collapsed": false
   },
   "source": [
    "### Chi-squared feature selection"
   ]
  },
  {
   "cell_type": "code",
   "execution_count": 91,
   "metadata": {
    "ExecuteTime": {
     "end_time": "2023-08-11T12:15:17.301852100Z",
     "start_time": "2023-08-11T12:15:17.212469500Z"
    },
    "collapsed": false
   },
   "outputs": [],
   "source": [
    "from sklearn.feature_selection import chi2\n",
    "\n",
    "f_values, p_values = chi2(X_train,y_train)"
   ]
  },
  {
   "cell_type": "code",
   "execution_count": null,
   "metadata": {
    "ExecuteTime": {
     "end_time": "2023-08-11T12:18:33.206644Z",
     "start_time": "2023-08-11T12:18:33.140941200Z"
    },
    "collapsed": false
   },
   "outputs": [],
   "source": [
    "p_values = pd.Series(p_values)\n",
    "p_values.index = X_train.columns\n",
    "p_values.sort_index(ascending=False)"
   ]
  },
  {
   "cell_type": "markdown",
   "metadata": {
    "collapsed": false
   },
   "source": [
    "sex is the most important feature we have followed by pclass, embarked then alone"
   ]
  },
  {
   "cell_type": "code",
   "execution_count": null,
   "metadata": {
    "collapsed": false
   },
   "outputs": [],
   "source": []
  }
 ],
 "metadata": {
  "kernelspec": {
   "display_name": "Python 3",
   "language": "python",
   "name": "python3"
  },
  "language_info": {
   "codemirror_mode": {
    "name": "ipython",
    "version": 2
   },
   "file_extension": ".py",
   "mimetype": "text/x-python",
   "name": "python",
   "nbconvert_exporter": "python",
   "pygments_lexer": "ipython2",
   "version": "2.7.6"
  }
 },
 "nbformat": 4,
 "nbformat_minor": 0
}
